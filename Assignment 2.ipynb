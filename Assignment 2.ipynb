{
 "cells": [
  {
   "cell_type": "markdown",
   "id": "c35eaef1",
   "metadata": {},
   "source": [
    "#\tWhat are Corpora?"
   ]
  },
  {
   "cell_type": "markdown",
   "id": "7f78eea4",
   "metadata": {},
   "source": [
    "A corpus is a large and structured set of machine-readable texts that have been produced in a natural communicative setting. Its plural is **`corpora`**. They can be derived in different ways like text that was originally electronic, transcripts of spoken language and optical character recognition, etc."
   ]
  },
  {
   "cell_type": "markdown",
   "id": "c478edb2",
   "metadata": {},
   "source": [
    "#\tWhat are Tokens?"
   ]
  },
  {
   "cell_type": "markdown",
   "id": "d822a3b4",
   "metadata": {},
   "source": [
    "Tokens are the building blocks of Natural Language. Tokenization is a way of separating a piece of text into smaller units called tokens. Here, tokens can be either words, characters, or subwords. Hence, tokenization can be broadly classified into 3 types – word, character, and subword (n-gram characters) tokenization."
   ]
  },
  {
   "cell_type": "markdown",
   "id": "fb759d62",
   "metadata": {},
   "source": [
    "# What are Unigrams, Bigrams, Trigrams?"
   ]
  },
  {
   "cell_type": "markdown",
   "id": "40d3fc2e",
   "metadata": {},
   "source": [
    "In Natural Language Processing n-gram is a contiguous sequence of n items generated from a given sample of text where the items can be characters or words and n can be any numbers like 1,2,3, etc.\n",
    "\n",
    "An n-gram of size 1 is referred to as a **`unigram`** size 2 is a **`bigram`** size 3 is a **`trigram`**. When **`N>3`** this is usually referred to as four grams or five grams and so on.\n"
   ]
  },
  {
   "cell_type": "markdown",
   "id": "a639b7b3",
   "metadata": {},
   "source": [
    "#\tHow to generate n-grams from text?"
   ]
  },
  {
   "cell_type": "code",
   "execution_count": 1,
   "id": "d101f63b",
   "metadata": {
    "ExecuteTime": {
     "end_time": "2022-11-25T17:50:20.761717Z",
     "start_time": "2022-11-25T17:50:19.586798Z"
    },
    "scrolled": false
   },
   "outputs": [
    {
     "name": "stdout",
     "output_type": "stream",
     "text": [
      "Unigram\n",
      "('My',),('Name',),('is',),('Sagar',),('Pahariya',),\n",
      "\n",
      "\n",
      "Bigram\n",
      "('My', 'Name'),('Name', 'is'),('is', 'Sagar'),('Sagar', 'Pahariya'),\n",
      "\n",
      "\n",
      "Trigram\n",
      "('My', 'Name', 'is'),('Name', 'is', 'Sagar'),('is', 'Sagar', 'Pahariya'),\n",
      "\n",
      "\n",
      "Everygram\n",
      "[('My',), ('My', 'Name'), ('My', 'Name', 'is'), ('My', 'Name', 'is', 'Sagar'), ('My', 'Name', 'is', 'Sagar', 'Pahariya'), ('Name',), ('Name', 'is'), ('Name', 'is', 'Sagar'), ('Name', 'is', 'Sagar', 'Pahariya'), ('is',), ('is', 'Sagar'), ('is', 'Sagar', 'Pahariya'), ('Sagar',), ('Sagar', 'Pahariya'), ('Pahariya',)]\n"
     ]
    }
   ],
   "source": [
    "from nltk.util import ngrams, everygrams\n",
    "\n",
    "def ngram_convertor(sentence,n=3):\n",
    "    ngram_sentence = ngrams(sentence.split(), n)\n",
    "    for item in ngram_sentence:\n",
    "        print(item,end=',')\n",
    "    print()\n",
    "        \n",
    "sentence = \"My Name is Sagar Pahariya\"\n",
    "print('Unigram')\n",
    "ngram_convertor(sentence,1)\n",
    "print('\\n')\n",
    "print('Bigram')\n",
    "ngram_convertor(sentence,2)\n",
    "print('\\n')\n",
    "print('Trigram')\n",
    "ngram_convertor(sentence,3)\n",
    "print('\\n')\n",
    "print('Everygram')\n",
    "print(list(everygrams(sentence.split())))"
   ]
  },
  {
   "cell_type": "markdown",
   "id": "2c4d0589",
   "metadata": {},
   "source": [
    "#\tExplain Lemmatization ?"
   ]
  },
  {
   "cell_type": "markdown",
   "id": "0d9c5a43",
   "metadata": {},
   "source": [
    "Lemmatization is unlike Stemming, reduces the inflected words properly ensuring that the root word belongs to the language. In Lemmatization root word is called Lemma. A lemma (plural lemmas or lemmata) is the canonical form, dictionary form, or citation form of a set of words."
   ]
  },
  {
   "cell_type": "markdown",
   "id": "34fa3100",
   "metadata": {},
   "source": [
    "#\tExplain Stemming ?"
   ]
  },
  {
   "cell_type": "markdown",
   "id": "7a8c65cf",
   "metadata": {},
   "source": [
    "Stemming is the process of reducing a word to its word stem that affixes to suffixes and prefixes or to the roots of words known as a lemma. Stemming is important in natural language understanding (NLU) and natural language processing (NLP)."
   ]
  },
  {
   "cell_type": "markdown",
   "id": "05471446",
   "metadata": {},
   "source": [
    "# Explain Part-of-speech (POS) tagging ?"
   ]
  },
  {
   "cell_type": "markdown",
   "id": "8c1faf21",
   "metadata": {},
   "source": [
    "Part-of-speech (POS) tagging may be defined as the process of converting a sentence in the form of a list of words, into a list of tuples. Here, the tuples are in the form of (word, tag). We can also call POS tagging a process of assigning one of the parts of speech to the given word."
   ]
  },
  {
   "cell_type": "markdown",
   "id": "ae81dae1",
   "metadata": {},
   "source": [
    "#\tExplain Chunking or shallow parsing  ?"
   ]
  },
  {
   "attachments": {
    "image-3.png": {
     "image/png": "[encoded data removed]"
    }
   },
   "cell_type": "markdown",
   "id": "89e256b5",
   "metadata": {},
   "source": [
    "Chunking is somewhere between part of speech (POS) tagging and full language parsing, hence the name shallow parsing. \n",
    "\n",
    "**Chunking:**\n",
    "![image-3.png](attachment:image-3.png)"
   ]
  },
  {
   "cell_type": "markdown",
   "id": "b999e29b",
   "metadata": {},
   "source": [
    "#\tExplain Noun Phrase (NP) chunking ?"
   ]
  },
  {
   "cell_type": "markdown",
   "id": "f9b2ba70",
   "metadata": {},
   "source": [
    "Text chunking is dividing sentences into non-overlapping phrases. Noun phrase chunking deals with extracting the noun phrases from a sentence. While NP chunking is much simpler than parsing, it is still a challenging task to build a accurate and very efficient NP chunker. The importance of NP chunking derives from the fact that it is used in many applications."
   ]
  },
  {
   "cell_type": "markdown",
   "id": "56c0ebbc",
   "metadata": {},
   "source": [
    "# Explain Named Entity Recognition ?"
   ]
  },
  {
   "cell_type": "markdown",
   "id": "7c3ef433",
   "metadata": {},
   "source": [
    " Named entity recognition (NER) — sometimes referred to as entity chunking, extraction, or identification — is the task of identifying and categorizing key information (entities) in text. An entity can be any word or series of words that consistently refers to the same thing. Every detected entity is classified into a predetermined category. For example, an NER machine learning (ML) model might detect the word “super.AI” in a text and classify it as a “Company”.\n",
    "\n",
    "NER is a form of natural language processing (NLP), a subfield of artificial intelligence. NLP is concerned with computers processing and analyzing natural language, i.e., any language that has developed naturally, rather than artificially, such as with computer coding languages."
   ]
  }
 ],
 "metadata": {
  "kernelspec": {
   "display_name": "Python 3 (ipykernel)",
   "language": "python",
   "name": "python3"
  },
  "language_info": {
   "codemirror_mode": {
    "name": "ipython",
    "version": 3
   },
   "file_extension": ".py",
   "mimetype": "text/x-python",
   "name": "python",
   "nbconvert_exporter": "python",
   "pygments_lexer": "ipython3",
   "version": "3.9.12"
  }
 },
 "nbformat": 4,
 "nbformat_minor": 5
}
